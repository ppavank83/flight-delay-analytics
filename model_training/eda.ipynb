{
 "cells": [
  {
   "cell_type": "code",
   "execution_count": 1,
   "id": "e5559d56",
   "metadata": {},
   "outputs": [],
   "source": [
    "import pandas as pd \n",
    "import ast \n",
    "import numpy as np\n",
    "import matplotlib.pyplot as plt\n",
    "import seaborn as sns\n",
    "from sklearn.model_selection import train_test_split\n",
    "from sklearn.preprocessing import OneHotEncoder\n",
    "from imblearn.over_sampling import SMOTE\n",
    "from sklearn.model_selection import train_test_split"
   ]
  },
  {
   "cell_type": "code",
   "execution_count": 2,
   "id": "57d85fc6",
   "metadata": {},
   "outputs": [],
   "source": [
    "#funtction to find null values and their percentage\n",
    "def null_values(df):\n",
    "    pd.set_option('display.max_rows', None )\n",
    "    null_values=df.isnull().sum()/len(df)*100\n",
    "    nan_values=df.isna().sum()/len(df)*100\n",
    "    result = pd.DataFrame({'Null Values': df.isnull().sum(),'Null Values %': null_values,'NaN Values': df.isna().sum(),'NaN Values %': nan_values})\n",
    "    return result"
   ]
  },
  {
   "cell_type": "code",
   "execution_count": null,
   "id": "f2b27325",
   "metadata": {},
   "outputs": [],
   "source": [
    "# Function to find Basic Stats like mode,median,mode,min_val,Max_val of the column in Dataframe and return results in set\n",
    "def basic_stats(df,column): \n",
    "    mean=df[column].mean()\n",
    "    median=df[column].median()\n",
    "    mode=df[column].mode()[0]\n",
    "    min_val=df[column].min()\n",
    "    max_val=df[column].max()\n",
    "    stats = {'mean': mean,'median': median,'mode': mode,'min': min_val,'max': max_val}\n",
    "    return stats"
   ]
  },
  {
   "cell_type": "code",
   "execution_count": 4,
   "id": "b275d04a",
   "metadata": {},
   "outputs": [],
   "source": [
    "def find_outliers(df):\n",
    "    # Select only numeric columns\n",
    "    numeric_df = df.select_dtypes(include='number')\n",
    "\n",
    "    # Calculate the first quartile (Q1) and third quartile (Q3) for each numeric column\n",
    "    Q1 = numeric_df.quantile(0.25, axis=0)\n",
    "    Q3 = numeric_df.quantile(0.75, axis=0)\n",
    "\n",
    "    # Calculate the interquartile range (IQR) for each numeric column\n",
    "    IQR = Q3 - Q1\n",
    "\n",
    "    # Define the lower and upper bounds for outliers for each numeric column\n",
    "    lower_bound = Q1 - 1.5 * IQR\n",
    "    upper_bound = Q3 + 1.5 * IQR\n",
    "\n",
    "    # Identify outliers for each numeric column\n",
    "    #outliers_df = numeric_df[(numeric_df < lower_bound) | (numeric_df > upper_bound)]\n",
    "    outliers_df = numeric_df[(numeric_df < lower_bound) | (numeric_df > upper_bound)].dropna(how='all')\n",
    "\n",
    "    return outliers_df\n"
   ]
  },
  {
   "cell_type": "code",
   "execution_count": 5,
   "id": "966a283b",
   "metadata": {},
   "outputs": [],
   "source": [
    "#Function to draw histogram\n",
    "def histo_graph(df, column, ax=None):\n",
    "    # Calculate statistics for the specified column\n",
    "    mean_val = df[column].mean()\n",
    "    median_val = df[column].median()\n",
    "    mode_val = df[column].mode()[0]\n",
    "\n",
    "    # If an axis is provided, plot on that axis; otherwise, create a new figure\n",
    "    if ax is None:\n",
    "        plt.figure(figsize=(8, 6))\n",
    "        ax = plt.gca()  # Get the current axis\n",
    "\n",
    "    # Plot histogram for the specified column\n",
    "    ax.hist(df[column], bins=10, edgecolor='black', alpha=0.7)\n",
    "\n",
    "    # Add mean, median, and mode lines\n",
    "    ax.axvline(mean_val, color='red', linestyle='dashed', linewidth=1)\n",
    "    ax.axvline(median_val, color='green', linestyle='dashed', linewidth=1)\n",
    "    ax.axvline(mode_val, color='black', linestyle='dashed', linewidth=1)\n",
    "\n",
    "    # Add annotations for mean, median, and mode\n",
    "    max_ylim = ax.get_ylim()[1]\n",
    "    ax.text(mean_val, max_ylim*0.9, f'Mean: {mean_val:.2f}', color='red')\n",
    "    ax.text(median_val, max_ylim*0.8, f'Median: {median_val:.2f}', color='green')\n",
    "    ax.text(mode_val, max_ylim*0.7, f'Mode: {mode_val:.2f}', color='black')\n",
    "\n",
    "    # Set title and labels\n",
    "    ax.set_title(f'Distribution Plot of {column}')\n",
    "    ax.set_xlabel(column)\n",
    "    ax.set_ylabel('Frequency')\n",
    "\n",
    "    # If no axis was provided, show the plot\n",
    "    if ax is None:\n",
    "        plt.show()"
   ]
  },
  {
   "cell_type": "code",
   "execution_count": 6,
   "id": "ca6ce99c",
   "metadata": {},
   "outputs": [],
   "source": [
    "# Function to plot side by side\n",
    "def plot_histo(df, columns):\n",
    "    num_columns = len(columns)\n",
    "\n",
    "    # Create a figure with subplots\n",
    "    fig, axes = plt.subplots(nrows=1, ncols=num_columns, figsize=(5 * num_columns, 6))\n",
    "\n",
    "    for i, column in enumerate(columns):\n",
    "        # Call the existing histo_graph function, passing the appropriate axis\n",
    "        histo_graph(df, column, ax=axes[i])  # Pass the specific axis for each subplot\n",
    "\n",
    "    plt.tight_layout()\n",
    "    plt.show()"
   ]
  },
  {
   "cell_type": "code",
   "execution_count": null,
   "id": "7c0426ad",
   "metadata": {},
   "outputs": [],
   "source": []
  }
 ],
 "metadata": {
  "kernelspec": {
   "display_name": "base",
   "language": "python",
   "name": "python3"
  },
  "language_info": {
   "codemirror_mode": {
    "name": "ipython",
    "version": 3
   },
   "file_extension": ".py",
   "mimetype": "text/x-python",
   "name": "python",
   "nbconvert_exporter": "python",
   "pygments_lexer": "ipython3",
   "version": "3.11.10"
  }
 },
 "nbformat": 4,
 "nbformat_minor": 5
}
